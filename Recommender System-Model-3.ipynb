{
 "cells": [
  {
   "cell_type": "markdown",
   "id": "0cbb59c9",
   "metadata": {},
   "source": [
    "### RS-Movies_dataset"
   ]
  },
  {
   "cell_type": "markdown",
   "id": "6b188dfa",
   "metadata": {},
   "source": [
    "### Importing The Liabraries"
   ]
  },
  {
   "cell_type": "code",
   "execution_count": 169,
   "id": "5fb3a9f3",
   "metadata": {},
   "outputs": [],
   "source": [
    "import pandas as pd\n",
    "import numpy as np\n",
    "\n",
    "import os\n",
    "from datetime import datetime\n",
    "\n",
    "from sklearn.metrics.pairwise import cosine_similarity\n",
    "\n",
    "from numpy import savez_compressed\n",
    "from numpy import load"
   ]
  },
  {
   "cell_type": "markdown",
   "id": "37cb64dc",
   "metadata": {},
   "source": [
    "### 1.Loading the Dataset."
   ]
  },
  {
   "cell_type": "markdown",
   "id": "268e1f0b",
   "metadata": {},
   "source": [
    "#### https://www.kaggle.com/rounakbanik/the-movies-dataset\n",
    "\n",
    "These files contain metadata for all 45,000 movies listed in the Full MovieLens Dataset. The dataset consists of movies released on or before July 2017. Data points include cast, crew, plot keywords, budget, revenue, posters, release dates, languages, production companies, countries, TMDB vote counts and vote averages.\n",
    "\n",
    "This dataset also has files containing 26 million ratings from 270,000 users for all 45,000 movies. Ratings are on a scale of 1-5 and have been obtained from the official GroupLens website.\n",
    "\n",
    "## Acknowledment\n",
    "\n",
    "### How Recommender System Works\n",
    "#### 1. https://github.com/Saurav-Raghaw/DataScience/blob/main/Recommendation.ipynb\n",
    "\n",
    "### Fundamental of Matrix Factorization For Recommender System\n",
    "\n",
    "#### 2. https://www.linkedin.com/pulse/fundamental-matrix-factorization-recommender-system-saurav-kumar/\n",
    "\n",
    "### How Netflix RS works?\n",
    "\n",
    "#### 3. https://www.linkedin.com/posts/saurav-kumar-78b97920a_recommender-system-netflix-activity-6814943939448102912-3Mjh\n"
   ]
  },
  {
   "cell_type": "code",
   "execution_count": 170,
   "id": "ad58c358",
   "metadata": {},
   "outputs": [],
   "source": [
    "df = pd.read_csv(\"movie_data2.csv\")"
   ]
  },
  {
   "cell_type": "code",
   "execution_count": 171,
   "id": "694a6938",
   "metadata": {},
   "outputs": [
    {
     "data": {
      "text/html": [
       "<div>\n",
       "<style scoped>\n",
       "    .dataframe tbody tr th:only-of-type {\n",
       "        vertical-align: middle;\n",
       "    }\n",
       "\n",
       "    .dataframe tbody tr th {\n",
       "        vertical-align: top;\n",
       "    }\n",
       "\n",
       "    .dataframe thead th {\n",
       "        text-align: right;\n",
       "    }\n",
       "</style>\n",
       "<table border=\"1\" class=\"dataframe\">\n",
       "  <thead>\n",
       "    <tr style=\"text-align: right;\">\n",
       "      <th></th>\n",
       "      <th>index</th>\n",
       "      <th>budget</th>\n",
       "      <th>genres</th>\n",
       "      <th>homepage</th>\n",
       "      <th>id</th>\n",
       "      <th>keywords</th>\n",
       "      <th>original_language</th>\n",
       "      <th>original_title</th>\n",
       "      <th>overview</th>\n",
       "      <th>popularity</th>\n",
       "      <th>...</th>\n",
       "      <th>runtime</th>\n",
       "      <th>spoken_languages</th>\n",
       "      <th>status</th>\n",
       "      <th>tagline</th>\n",
       "      <th>title</th>\n",
       "      <th>vote_average</th>\n",
       "      <th>vote_count</th>\n",
       "      <th>cast</th>\n",
       "      <th>crew</th>\n",
       "      <th>director</th>\n",
       "    </tr>\n",
       "  </thead>\n",
       "  <tbody>\n",
       "    <tr>\n",
       "      <th>0</th>\n",
       "      <td>0</td>\n",
       "      <td>237000000</td>\n",
       "      <td>Action Adventure Fantasy Science Fiction</td>\n",
       "      <td>http://www.avatarmovie.com/</td>\n",
       "      <td>19995</td>\n",
       "      <td>culture clash future space war space colony so...</td>\n",
       "      <td>en</td>\n",
       "      <td>Avatar</td>\n",
       "      <td>In the 22nd century, a paraplegic Marine is di...</td>\n",
       "      <td>150.437577</td>\n",
       "      <td>...</td>\n",
       "      <td>162.0</td>\n",
       "      <td>[{\"iso_639_1\": \"en\", \"name\": \"English\"}, {\"iso...</td>\n",
       "      <td>Released</td>\n",
       "      <td>Enter the World of Pandora.</td>\n",
       "      <td>Avatar</td>\n",
       "      <td>7.2</td>\n",
       "      <td>11800</td>\n",
       "      <td>Sam Worthington Zoe Saldana Sigourney Weaver S...</td>\n",
       "      <td>[{'name': 'Stephen E. Rivkin', 'gender': 0, 'd...</td>\n",
       "      <td>James Cameron</td>\n",
       "    </tr>\n",
       "    <tr>\n",
       "      <th>1</th>\n",
       "      <td>1</td>\n",
       "      <td>300000000</td>\n",
       "      <td>Adventure Fantasy Action</td>\n",
       "      <td>http://disney.go.com/disneypictures/pirates/</td>\n",
       "      <td>285</td>\n",
       "      <td>ocean drug abuse exotic island east india trad...</td>\n",
       "      <td>en</td>\n",
       "      <td>Pirates of the Caribbean: At World's End</td>\n",
       "      <td>Captain Barbossa, long believed to be dead, ha...</td>\n",
       "      <td>139.082615</td>\n",
       "      <td>...</td>\n",
       "      <td>169.0</td>\n",
       "      <td>[{\"iso_639_1\": \"en\", \"name\": \"English\"}]</td>\n",
       "      <td>Released</td>\n",
       "      <td>At the end of the world, the adventure begins.</td>\n",
       "      <td>Pirates of the Caribbean: At World's End</td>\n",
       "      <td>6.9</td>\n",
       "      <td>4500</td>\n",
       "      <td>Johnny Depp Orlando Bloom Keira Knightley Stel...</td>\n",
       "      <td>[{'name': 'Dariusz Wolski', 'gender': 2, 'depa...</td>\n",
       "      <td>Gore Verbinski</td>\n",
       "    </tr>\n",
       "    <tr>\n",
       "      <th>2</th>\n",
       "      <td>2</td>\n",
       "      <td>245000000</td>\n",
       "      <td>Action Adventure Crime</td>\n",
       "      <td>http://www.sonypictures.com/movies/spectre/</td>\n",
       "      <td>206647</td>\n",
       "      <td>spy based on novel secret agent sequel mi6</td>\n",
       "      <td>en</td>\n",
       "      <td>Spectre</td>\n",
       "      <td>A cryptic message from Bond’s past sends him o...</td>\n",
       "      <td>107.376788</td>\n",
       "      <td>...</td>\n",
       "      <td>148.0</td>\n",
       "      <td>[{\"iso_639_1\": \"fr\", \"name\": \"Fran\\u00e7ais\"},...</td>\n",
       "      <td>Released</td>\n",
       "      <td>A Plan No One Escapes</td>\n",
       "      <td>Spectre</td>\n",
       "      <td>6.3</td>\n",
       "      <td>4466</td>\n",
       "      <td>Daniel Craig Christoph Waltz L\\u00e9a Seydoux ...</td>\n",
       "      <td>[{'name': 'Thomas Newman', 'gender': 2, 'depar...</td>\n",
       "      <td>Sam Mendes</td>\n",
       "    </tr>\n",
       "    <tr>\n",
       "      <th>3</th>\n",
       "      <td>3</td>\n",
       "      <td>250000000</td>\n",
       "      <td>Action Crime Drama Thriller</td>\n",
       "      <td>http://www.thedarkknightrises.com/</td>\n",
       "      <td>49026</td>\n",
       "      <td>dc comics crime fighter terrorist secret ident...</td>\n",
       "      <td>en</td>\n",
       "      <td>The Dark Knight Rises</td>\n",
       "      <td>Following the death of District Attorney Harve...</td>\n",
       "      <td>112.312950</td>\n",
       "      <td>...</td>\n",
       "      <td>165.0</td>\n",
       "      <td>[{\"iso_639_1\": \"en\", \"name\": \"English\"}]</td>\n",
       "      <td>Released</td>\n",
       "      <td>The Legend Ends</td>\n",
       "      <td>The Dark Knight Rises</td>\n",
       "      <td>7.6</td>\n",
       "      <td>9106</td>\n",
       "      <td>Christian Bale Michael Caine Gary Oldman Anne ...</td>\n",
       "      <td>[{'name': 'Hans Zimmer', 'gender': 2, 'departm...</td>\n",
       "      <td>Christopher Nolan</td>\n",
       "    </tr>\n",
       "    <tr>\n",
       "      <th>4</th>\n",
       "      <td>4</td>\n",
       "      <td>260000000</td>\n",
       "      <td>Action Adventure Science Fiction</td>\n",
       "      <td>http://movies.disney.com/john-carter</td>\n",
       "      <td>49529</td>\n",
       "      <td>based on novel mars medallion space travel pri...</td>\n",
       "      <td>en</td>\n",
       "      <td>John Carter</td>\n",
       "      <td>John Carter is a war-weary, former military ca...</td>\n",
       "      <td>43.926995</td>\n",
       "      <td>...</td>\n",
       "      <td>132.0</td>\n",
       "      <td>[{\"iso_639_1\": \"en\", \"name\": \"English\"}]</td>\n",
       "      <td>Released</td>\n",
       "      <td>Lost in our world, found in another.</td>\n",
       "      <td>John Carter</td>\n",
       "      <td>6.1</td>\n",
       "      <td>2124</td>\n",
       "      <td>Taylor Kitsch Lynn Collins Samantha Morton Wil...</td>\n",
       "      <td>[{'name': 'Andrew Stanton', 'gender': 2, 'depa...</td>\n",
       "      <td>Andrew Stanton</td>\n",
       "    </tr>\n",
       "  </tbody>\n",
       "</table>\n",
       "<p>5 rows × 24 columns</p>\n",
       "</div>"
      ],
      "text/plain": [
       "   index     budget                                    genres  \\\n",
       "0      0  237000000  Action Adventure Fantasy Science Fiction   \n",
       "1      1  300000000                  Adventure Fantasy Action   \n",
       "2      2  245000000                    Action Adventure Crime   \n",
       "3      3  250000000               Action Crime Drama Thriller   \n",
       "4      4  260000000          Action Adventure Science Fiction   \n",
       "\n",
       "                                       homepage      id  \\\n",
       "0                   http://www.avatarmovie.com/   19995   \n",
       "1  http://disney.go.com/disneypictures/pirates/     285   \n",
       "2   http://www.sonypictures.com/movies/spectre/  206647   \n",
       "3            http://www.thedarkknightrises.com/   49026   \n",
       "4          http://movies.disney.com/john-carter   49529   \n",
       "\n",
       "                                            keywords original_language  \\\n",
       "0  culture clash future space war space colony so...                en   \n",
       "1  ocean drug abuse exotic island east india trad...                en   \n",
       "2         spy based on novel secret agent sequel mi6                en   \n",
       "3  dc comics crime fighter terrorist secret ident...                en   \n",
       "4  based on novel mars medallion space travel pri...                en   \n",
       "\n",
       "                             original_title  \\\n",
       "0                                    Avatar   \n",
       "1  Pirates of the Caribbean: At World's End   \n",
       "2                                   Spectre   \n",
       "3                     The Dark Knight Rises   \n",
       "4                               John Carter   \n",
       "\n",
       "                                            overview  popularity  ... runtime  \\\n",
       "0  In the 22nd century, a paraplegic Marine is di...  150.437577  ...   162.0   \n",
       "1  Captain Barbossa, long believed to be dead, ha...  139.082615  ...   169.0   \n",
       "2  A cryptic message from Bond’s past sends him o...  107.376788  ...   148.0   \n",
       "3  Following the death of District Attorney Harve...  112.312950  ...   165.0   \n",
       "4  John Carter is a war-weary, former military ca...   43.926995  ...   132.0   \n",
       "\n",
       "                                    spoken_languages    status  \\\n",
       "0  [{\"iso_639_1\": \"en\", \"name\": \"English\"}, {\"iso...  Released   \n",
       "1           [{\"iso_639_1\": \"en\", \"name\": \"English\"}]  Released   \n",
       "2  [{\"iso_639_1\": \"fr\", \"name\": \"Fran\\u00e7ais\"},...  Released   \n",
       "3           [{\"iso_639_1\": \"en\", \"name\": \"English\"}]  Released   \n",
       "4           [{\"iso_639_1\": \"en\", \"name\": \"English\"}]  Released   \n",
       "\n",
       "                                          tagline  \\\n",
       "0                     Enter the World of Pandora.   \n",
       "1  At the end of the world, the adventure begins.   \n",
       "2                           A Plan No One Escapes   \n",
       "3                                 The Legend Ends   \n",
       "4            Lost in our world, found in another.   \n",
       "\n",
       "                                      title vote_average vote_count  \\\n",
       "0                                    Avatar          7.2      11800   \n",
       "1  Pirates of the Caribbean: At World's End          6.9       4500   \n",
       "2                                   Spectre          6.3       4466   \n",
       "3                     The Dark Knight Rises          7.6       9106   \n",
       "4                               John Carter          6.1       2124   \n",
       "\n",
       "                                                cast  \\\n",
       "0  Sam Worthington Zoe Saldana Sigourney Weaver S...   \n",
       "1  Johnny Depp Orlando Bloom Keira Knightley Stel...   \n",
       "2  Daniel Craig Christoph Waltz L\\u00e9a Seydoux ...   \n",
       "3  Christian Bale Michael Caine Gary Oldman Anne ...   \n",
       "4  Taylor Kitsch Lynn Collins Samantha Morton Wil...   \n",
       "\n",
       "                                                crew           director  \n",
       "0  [{'name': 'Stephen E. Rivkin', 'gender': 0, 'd...      James Cameron  \n",
       "1  [{'name': 'Dariusz Wolski', 'gender': 2, 'depa...     Gore Verbinski  \n",
       "2  [{'name': 'Thomas Newman', 'gender': 2, 'depar...         Sam Mendes  \n",
       "3  [{'name': 'Hans Zimmer', 'gender': 2, 'departm...  Christopher Nolan  \n",
       "4  [{'name': 'Andrew Stanton', 'gender': 2, 'depa...     Andrew Stanton  \n",
       "\n",
       "[5 rows x 24 columns]"
      ]
     },
     "execution_count": 171,
     "metadata": {},
     "output_type": "execute_result"
    }
   ],
   "source": [
    "df.head()"
   ]
  },
  {
   "cell_type": "markdown",
   "id": "622acdb6",
   "metadata": {},
   "source": [
    "### Checking for NaN values"
   ]
  },
  {
   "cell_type": "code",
   "execution_count": 172,
   "id": "f0a62946",
   "metadata": {},
   "outputs": [
    {
     "name": "stdout",
     "output_type": "stream",
     "text": [
      "No of Nan values in our dataframe :  9\n"
     ]
    }
   ],
   "source": [
    "\n",
    "\n",
    "\n",
    "print(\"No of Nan values in our dataframe : \", sum(df.isnull().any()))"
   ]
  },
  {
   "cell_type": "code",
   "execution_count": 173,
   "id": "7a42e952",
   "metadata": {},
   "outputs": [
    {
     "data": {
      "text/plain": [
       "4454"
      ]
     },
     "execution_count": 173,
     "metadata": {},
     "output_type": "execute_result"
    }
   ],
   "source": [
    "#Checking the NaN values in entire dataset.\n",
    "df.isnull().sum().sum()"
   ]
  },
  {
   "cell_type": "code",
   "execution_count": 174,
   "id": "622b5b45",
   "metadata": {},
   "outputs": [
    {
     "name": "stdout",
     "output_type": "stream",
     "text": [
      "Number of duplicate rows in dataset = 0\n"
     ]
    }
   ],
   "source": [
    "#Removing Duplicates\n",
    "dup_bool = df.duplicated(['index' ,'budget' ,'genres', 'homepage', 'id' ,'keywords', 'original_language',\n",
    " 'original_title', 'overview', 'popularity', 'production_companies',\n",
    " 'production_countries', 'release_date', 'revenue', 'runtime',\n",
    " 'spoken_languages', 'status', 'tagline', 'title', 'vote_average', 'vote_count',\n",
    " 'cast', 'crew', 'director'])\n",
    "dups = sum(dup_bool) # by considering all columns.\n",
    "print(\"Number of duplicate rows in dataset = {}\".format(dups))"
   ]
  },
  {
   "cell_type": "code",
   "execution_count": 175,
   "id": "23dbde74",
   "metadata": {},
   "outputs": [
    {
     "name": "stdout",
     "output_type": "stream",
     "text": [
      "(4803, 24)\n",
      "index                     int64\n",
      "budget                    int64\n",
      "genres                   object\n",
      "homepage                 object\n",
      "id                        int64\n",
      "keywords                 object\n",
      "original_language        object\n",
      "original_title           object\n",
      "overview                 object\n",
      "popularity              float64\n",
      "production_companies     object\n",
      "production_countries     object\n",
      "release_date             object\n",
      "revenue                   int64\n",
      "runtime                 float64\n",
      "spoken_languages         object\n",
      "status                   object\n",
      "tagline                  object\n",
      "title                    object\n",
      "vote_average            float64\n",
      "vote_count                int64\n",
      "cast                     object\n",
      "crew                     object\n",
      "director                 object\n",
      "dtype: object\n"
     ]
    }
   ],
   "source": [
    "print(df.shape)\n",
    "print(df.dtypes)"
   ]
  },
  {
   "cell_type": "code",
   "execution_count": 176,
   "id": "9756b873",
   "metadata": {},
   "outputs": [
    {
     "name": "stdout",
     "output_type": "stream",
     "text": [
      "['index' 'budget' 'genres' 'homepage' 'id' 'keywords' 'original_language'\n",
      " 'original_title' 'overview' 'popularity' 'production_companies'\n",
      " 'production_countries' 'release_date' 'revenue' 'runtime'\n",
      " 'spoken_languages' 'status' 'tagline' 'title' 'vote_average' 'vote_count'\n",
      " 'cast' 'crew' 'director']\n"
     ]
    }
   ],
   "source": [
    "print(df.columns.values)"
   ]
  },
  {
   "cell_type": "code",
   "execution_count": 177,
   "id": "8f72ba17",
   "metadata": {},
   "outputs": [
    {
     "data": {
      "text/html": [
       "<div>\n",
       "<style scoped>\n",
       "    .dataframe tbody tr th:only-of-type {\n",
       "        vertical-align: middle;\n",
       "    }\n",
       "\n",
       "    .dataframe tbody tr th {\n",
       "        vertical-align: top;\n",
       "    }\n",
       "\n",
       "    .dataframe thead th {\n",
       "        text-align: right;\n",
       "    }\n",
       "</style>\n",
       "<table border=\"1\" class=\"dataframe\">\n",
       "  <thead>\n",
       "    <tr style=\"text-align: right;\">\n",
       "      <th></th>\n",
       "      <th>index</th>\n",
       "      <th>budget</th>\n",
       "      <th>id</th>\n",
       "      <th>popularity</th>\n",
       "      <th>revenue</th>\n",
       "      <th>runtime</th>\n",
       "      <th>vote_average</th>\n",
       "      <th>vote_count</th>\n",
       "    </tr>\n",
       "  </thead>\n",
       "  <tbody>\n",
       "    <tr>\n",
       "      <th>count</th>\n",
       "      <td>4803.000000</td>\n",
       "      <td>4.803000e+03</td>\n",
       "      <td>4803.000000</td>\n",
       "      <td>4803.000000</td>\n",
       "      <td>4.803000e+03</td>\n",
       "      <td>4801.000000</td>\n",
       "      <td>4803.000000</td>\n",
       "      <td>4803.000000</td>\n",
       "    </tr>\n",
       "    <tr>\n",
       "      <th>mean</th>\n",
       "      <td>2401.000000</td>\n",
       "      <td>2.904504e+07</td>\n",
       "      <td>57165.484281</td>\n",
       "      <td>21.492301</td>\n",
       "      <td>8.226064e+07</td>\n",
       "      <td>106.875859</td>\n",
       "      <td>6.092172</td>\n",
       "      <td>690.217989</td>\n",
       "    </tr>\n",
       "    <tr>\n",
       "      <th>std</th>\n",
       "      <td>1386.651002</td>\n",
       "      <td>4.072239e+07</td>\n",
       "      <td>88694.614033</td>\n",
       "      <td>31.816650</td>\n",
       "      <td>1.628571e+08</td>\n",
       "      <td>22.611935</td>\n",
       "      <td>1.194612</td>\n",
       "      <td>1234.585891</td>\n",
       "    </tr>\n",
       "    <tr>\n",
       "      <th>min</th>\n",
       "      <td>0.000000</td>\n",
       "      <td>0.000000e+00</td>\n",
       "      <td>5.000000</td>\n",
       "      <td>0.000000</td>\n",
       "      <td>0.000000e+00</td>\n",
       "      <td>0.000000</td>\n",
       "      <td>0.000000</td>\n",
       "      <td>0.000000</td>\n",
       "    </tr>\n",
       "    <tr>\n",
       "      <th>25%</th>\n",
       "      <td>1200.500000</td>\n",
       "      <td>7.900000e+05</td>\n",
       "      <td>9014.500000</td>\n",
       "      <td>4.668070</td>\n",
       "      <td>0.000000e+00</td>\n",
       "      <td>94.000000</td>\n",
       "      <td>5.600000</td>\n",
       "      <td>54.000000</td>\n",
       "    </tr>\n",
       "    <tr>\n",
       "      <th>50%</th>\n",
       "      <td>2401.000000</td>\n",
       "      <td>1.500000e+07</td>\n",
       "      <td>14629.000000</td>\n",
       "      <td>12.921594</td>\n",
       "      <td>1.917000e+07</td>\n",
       "      <td>103.000000</td>\n",
       "      <td>6.200000</td>\n",
       "      <td>235.000000</td>\n",
       "    </tr>\n",
       "    <tr>\n",
       "      <th>75%</th>\n",
       "      <td>3601.500000</td>\n",
       "      <td>4.000000e+07</td>\n",
       "      <td>58610.500000</td>\n",
       "      <td>28.313505</td>\n",
       "      <td>9.291719e+07</td>\n",
       "      <td>118.000000</td>\n",
       "      <td>6.800000</td>\n",
       "      <td>737.000000</td>\n",
       "    </tr>\n",
       "    <tr>\n",
       "      <th>max</th>\n",
       "      <td>4802.000000</td>\n",
       "      <td>3.800000e+08</td>\n",
       "      <td>459488.000000</td>\n",
       "      <td>875.581305</td>\n",
       "      <td>2.787965e+09</td>\n",
       "      <td>338.000000</td>\n",
       "      <td>10.000000</td>\n",
       "      <td>13752.000000</td>\n",
       "    </tr>\n",
       "  </tbody>\n",
       "</table>\n",
       "</div>"
      ],
      "text/plain": [
       "             index        budget             id   popularity       revenue  \\\n",
       "count  4803.000000  4.803000e+03    4803.000000  4803.000000  4.803000e+03   \n",
       "mean   2401.000000  2.904504e+07   57165.484281    21.492301  8.226064e+07   \n",
       "std    1386.651002  4.072239e+07   88694.614033    31.816650  1.628571e+08   \n",
       "min       0.000000  0.000000e+00       5.000000     0.000000  0.000000e+00   \n",
       "25%    1200.500000  7.900000e+05    9014.500000     4.668070  0.000000e+00   \n",
       "50%    2401.000000  1.500000e+07   14629.000000    12.921594  1.917000e+07   \n",
       "75%    3601.500000  4.000000e+07   58610.500000    28.313505  9.291719e+07   \n",
       "max    4802.000000  3.800000e+08  459488.000000   875.581305  2.787965e+09   \n",
       "\n",
       "           runtime  vote_average    vote_count  \n",
       "count  4801.000000   4803.000000   4803.000000  \n",
       "mean    106.875859      6.092172    690.217989  \n",
       "std      22.611935      1.194612   1234.585891  \n",
       "min       0.000000      0.000000      0.000000  \n",
       "25%      94.000000      5.600000     54.000000  \n",
       "50%     103.000000      6.200000    235.000000  \n",
       "75%     118.000000      6.800000    737.000000  \n",
       "max     338.000000     10.000000  13752.000000  "
      ]
     },
     "execution_count": 177,
     "metadata": {},
     "output_type": "execute_result"
    }
   ],
   "source": [
    "df.describe()"
   ]
  },
  {
   "cell_type": "markdown",
   "id": "13f67a97",
   "metadata": {},
   "source": [
    "### 2. Choosing the Relevant Features"
   ]
  },
  {
   "cell_type": "code",
   "execution_count": 178,
   "id": "42924693",
   "metadata": {},
   "outputs": [],
   "source": [
    "features = ['genres', 'keywords', 'title', 'cast', 'director','tagline']"
   ]
  },
  {
   "cell_type": "code",
   "execution_count": 179,
   "id": "26f7d815",
   "metadata": {},
   "outputs": [
    {
     "name": "stdout",
     "output_type": "stream",
     "text": [
      "<class 'pandas.core.frame.DataFrame'>\n",
      "RangeIndex: 4803 entries, 0 to 4802\n",
      "Data columns (total 24 columns):\n",
      " #   Column                Non-Null Count  Dtype  \n",
      "---  ------                --------------  -----  \n",
      " 0   index                 4803 non-null   int64  \n",
      " 1   budget                4803 non-null   int64  \n",
      " 2   genres                4775 non-null   object \n",
      " 3   homepage              1712 non-null   object \n",
      " 4   id                    4803 non-null   int64  \n",
      " 5   keywords              4391 non-null   object \n",
      " 6   original_language     4803 non-null   object \n",
      " 7   original_title        4803 non-null   object \n",
      " 8   overview              4800 non-null   object \n",
      " 9   popularity            4803 non-null   float64\n",
      " 10  production_companies  4803 non-null   object \n",
      " 11  production_countries  4803 non-null   object \n",
      " 12  release_date          4802 non-null   object \n",
      " 13  revenue               4803 non-null   int64  \n",
      " 14  runtime               4801 non-null   float64\n",
      " 15  spoken_languages      4803 non-null   object \n",
      " 16  status                4803 non-null   object \n",
      " 17  tagline               3959 non-null   object \n",
      " 18  title                 4803 non-null   object \n",
      " 19  vote_average          4803 non-null   float64\n",
      " 20  vote_count            4803 non-null   int64  \n",
      " 21  cast                  4760 non-null   object \n",
      " 22  crew                  4803 non-null   object \n",
      " 23  director              4773 non-null   object \n",
      "dtypes: float64(3), int64(5), object(16)\n",
      "memory usage: 900.7+ KB\n",
      "None\n"
     ]
    }
   ],
   "source": [
    "#Checking for the NaN values.\n",
    "print(df.info())"
   ]
  },
  {
   "cell_type": "markdown",
   "id": "fc298c9f",
   "metadata": {},
   "source": [
    "Some columns have NaN data points that will create a problem, Replacing it with empty string ('')."
   ]
  },
  {
   "cell_type": "code",
   "execution_count": 180,
   "id": "469c7f79",
   "metadata": {},
   "outputs": [
    {
     "data": {
      "text/plain": [
       "True"
      ]
     },
     "execution_count": 180,
     "metadata": {},
     "output_type": "execute_result"
    }
   ],
   "source": [
    "df['cast'].isnull().values.any()"
   ]
  },
  {
   "cell_type": "code",
   "execution_count": 181,
   "id": "c66d56d1",
   "metadata": {},
   "outputs": [],
   "source": [
    "#Filling the NaN values with string.\n",
    "#Calling this function over each row of our dataframe.\n",
    "for feature in features:\n",
    "    df[feature] = df[feature].fillna('')"
   ]
  },
  {
   "cell_type": "code",
   "execution_count": 182,
   "id": "59a10f82",
   "metadata": {},
   "outputs": [],
   "source": [
    "#Function for combining the values of these columns into a single string.\n",
    "def combine_features(row):\n",
    "    return row['title']+' '+row['genres']+' '+row['director']+' '+row['keywords']+' '+row['cast']+' '+row['tagline']"
   ]
  },
  {
   "cell_type": "code",
   "execution_count": 183,
   "id": "402968e4",
   "metadata": {},
   "outputs": [],
   "source": [
    "#applying combine_feature method over each row of Dataframe and storing the combined string in \"combined_features\" column.\n",
    "df['combined_features'] = df.apply(combine_features, axis = 1)"
   ]
  },
  {
   "cell_type": "code",
   "execution_count": 184,
   "id": "2256a5d3",
   "metadata": {},
   "outputs": [
    {
     "data": {
      "text/plain": [
       "0       Avatar Action Adventure Fantasy Science Fictio...\n",
       "1       Pirates of the Caribbean: At World's End Adven...\n",
       "2       Spectre Action Adventure Crime Sam Mendes spy ...\n",
       "3       The Dark Knight Rises Action Crime Drama Thril...\n",
       "4       John Carter Action Adventure Science Fiction A...\n",
       "                              ...                        \n",
       "4798    El Mariachi Action Crime Thriller Robert Rodri...\n",
       "4799    Newlyweds Comedy Romance Edward Burns  Edward ...\n",
       "4800    Signed, Sealed, Delivered Comedy Drama Romance...\n",
       "4801    Shanghai Calling  Daniel Hsia  Daniel Henney E...\n",
       "4802    My Date with Drew Documentary Brian Herzlinger...\n",
       "Name: combined_features, Length: 4803, dtype: object"
      ]
     },
     "execution_count": 184,
     "metadata": {},
     "output_type": "execute_result"
    }
   ],
   "source": [
    "df['combined_features']"
   ]
  },
  {
   "cell_type": "code",
   "execution_count": 185,
   "id": "421a7336",
   "metadata": {},
   "outputs": [
    {
     "name": "stdout",
     "output_type": "stream",
     "text": [
      "Spectre Action Adventure Crime Sam Mendes spy based on novel secret agent sequel mi6 Daniel Craig Christoph Waltz L\\u00e9a Seydoux Ralph Fiennes Monica Bellucci A Plan No One Escapes\n"
     ]
    }
   ],
   "source": [
    "#Want to see\n",
    "print(df.loc[2, 'combined_features'])\n"
   ]
  },
  {
   "cell_type": "markdown",
   "id": "877e545d",
   "metadata": {},
   "source": [
    "### Feed these strings to a CountVectorizer() object for getting the count matrix.\n",
    "\n",
    "### How CountVectorizer() works.\n",
    "\n",
    "#### https://towardsdatascience.com/natural-language-processing-count-vectorization-with-scikit-learn-e7804269bb5e\n",
    "#### https://www.geeksforgeeks.org/using-countvectorizer-to-extracting-features-from-text/"
   ]
  },
  {
   "cell_type": "code",
   "execution_count": 186,
   "id": "dd71c91c",
   "metadata": {},
   "outputs": [],
   "source": [
    "from sklearn.feature_extraction.text import CountVectorizer\n",
    "\n",
    "\n",
    "cv = CountVectorizer()\n",
    "count_matrix = cv.fit_transform(df['combined_features'])"
   ]
  },
  {
   "cell_type": "code",
   "execution_count": 187,
   "id": "309a6399",
   "metadata": {},
   "outputs": [
    {
     "data": {
      "text/plain": [
       "<4803x19184 sparse matrix of type '<class 'numpy.int64'>'\n",
       "\twith 134944 stored elements in Compressed Sparse Row format>"
      ]
     },
     "execution_count": 187,
     "metadata": {},
     "output_type": "execute_result"
    }
   ],
   "source": [
    "count_matrix"
   ]
  },
  {
   "attachments": {
    "image.png": {
     "image/png": "[encoded data removed]"
    }
   },
   "cell_type": "markdown",
   "id": "0e53660c",
   "metadata": {},
   "source": [
    "###  Cosine Similarity.\n",
    "\n",
    "### How Cosine Similarity Works?\n",
    "\n",
    "#### https://towardsdatascience.com/understanding-cosine-similarity-and-its-application-fd42f585296a\n",
    "\n",
    "![image.png](attachment:image.png)"
   ]
  },
  {
   "cell_type": "markdown",
   "id": "641cdf33",
   "metadata": {},
   "source": [
    "#### .NPZ Format : https://machinelearningmastery.com/how-to-save-a-numpy-array-to-file-for-machine-learning/"
   ]
  },
  {
   "cell_type": "code",
   "execution_count": 188,
   "id": "4045c2dd",
   "metadata": {},
   "outputs": [
    {
     "name": "stdout",
     "output_type": "stream",
     "text": [
      "It is already present in my local repository. Loading...\n",
      "\n",
      "\n",
      "DONE..\n",
      "0:00:04.760109\n"
     ]
    }
   ],
   "source": [
    "start = datetime.now()\n",
    "\n",
    "if os.path.isfile('cosine_sim2.npz'):\n",
    "    print(\"It is already present in my local repository. Loading...\\n\\n\")\n",
    "    dict_data = load(\"cosine_sim2.npz\")\n",
    "    cosine_sim = dict_data['arr_0']\n",
    "    print(\"DONE..\")\n",
    "else:\n",
    "    print(\"File is not present in my Local Repository..Creating....\\n\\n\")\n",
    "    cosine_sim = cosine_similarity(count_matrix)\n",
    "    print('Saving it into my Local Repository....\\n\\n')\n",
    "    savez_compressed(\"cosine_sim2.npz\", cosine_sim)\n",
    "    print(\"DONE..\\n\")\n",
    "    \n",
    "print(datetime.now() - start)"
   ]
  },
  {
   "cell_type": "code",
   "execution_count": 189,
   "id": "f9537e39",
   "metadata": {},
   "outputs": [
    {
     "data": {
      "text/plain": [
       "array([[1.        , 0.26669823, 0.09869275, ..., 0.        , 0.        ,\n",
       "        0.        ],\n",
       "       [0.26669823, 1.        , 0.08908708, ..., 0.06681531, 0.        ,\n",
       "        0.        ],\n",
       "       [0.09869275, 0.08908708, 1.        , ..., 0.        , 0.0805823 ,\n",
       "        0.        ],\n",
       "       ...,\n",
       "       [0.        , 0.06681531, 0.        , ..., 1.        , 0.        ,\n",
       "        0.07142857],\n",
       "       [0.        , 0.        , 0.0805823 , ..., 0.        , 1.        ,\n",
       "        0.        ],\n",
       "       [0.        , 0.        , 0.        , ..., 0.07142857, 0.        ,\n",
       "        1.        ]])"
      ]
     },
     "execution_count": 189,
     "metadata": {},
     "output_type": "execute_result"
    }
   ],
   "source": [
    "cosine_sim"
   ]
  },
  {
   "cell_type": "code",
   "execution_count": 190,
   "id": "f5a43d52",
   "metadata": {},
   "outputs": [],
   "source": [
    "#Functions to get movie title from movie index.\n",
    "def get_title_from_index(index):\n",
    "    return df[df.index == index][\"title\"].values[0]"
   ]
  },
  {
   "cell_type": "code",
   "execution_count": 191,
   "id": "b47b855d",
   "metadata": {},
   "outputs": [],
   "source": [
    "#Functions to get movie index from movie title.\n",
    "def get_index_from_title(title):\n",
    "    return df[df.title == title][\"index\"].values[0]"
   ]
  },
  {
   "cell_type": "code",
   "execution_count": 192,
   "id": "13eaaac9",
   "metadata": {},
   "outputs": [],
   "source": [
    "#Functions to get movie homepage from movie index.\n",
    "def get_homepage_from_index(index):\n",
    "    return df[df.index == index][\"homepage\"].values[0]"
   ]
  },
  {
   "cell_type": "code",
   "execution_count": 201,
   "id": "8b18e889",
   "metadata": {},
   "outputs": [
    {
     "name": "stdout",
     "output_type": "stream",
     "text": [
      "Enter the movie name: Mission: Impossible - Ghost Protocol\n"
     ]
    }
   ],
   "source": [
    "#Taking the Movie name as input\n",
    "movie_name = input(\"Enter the movie name: \")"
   ]
  },
  {
   "cell_type": "code",
   "execution_count": 202,
   "id": "e1c265a7",
   "metadata": {},
   "outputs": [],
   "source": [
    "#getting the movie index\n",
    "movie_index = get_index_from_title(movie_name)"
   ]
  },
  {
   "cell_type": "code",
   "execution_count": 203,
   "id": "cde83b77",
   "metadata": {},
   "outputs": [
    {
     "data": {
      "text/plain": [
       "153"
      ]
     },
     "execution_count": 203,
     "metadata": {},
     "output_type": "execute_result"
    }
   ],
   "source": [
    "movie_index"
   ]
  },
  {
   "cell_type": "code",
   "execution_count": 204,
   "id": "ae3fa75c",
   "metadata": {},
   "outputs": [
    {
     "data": {
      "text/plain": [
       "'http://www.missionimpossible.com/'"
      ]
     },
     "execution_count": 204,
     "metadata": {},
     "output_type": "execute_result"
    }
   ],
   "source": [
    "#Getting the movie homepge\n",
    "movie_homepage = get_homepage_from_index(movie_index)\n",
    "movie_homepage"
   ]
  },
  {
   "cell_type": "markdown",
   "id": "ecf7d927",
   "metadata": {},
   "source": [
    "Now we'll access the row corresponding to this movie in the similarity matrix. \n",
    "and will get the similarity scores of all other movies from the current movie. \n",
    "Then we will enumerate through all the similarity scores of that movie to make a tuple of movie index and similarity score. \n",
    "This will convert a row of similarity scores like this- [1 0.5 0.2 0.9] to this- [(0, 1) (1, 0.5) (2, 0.2) (3, 0.9)] . \n",
    "Here, each item is in this form- (movie index, similarity score)"
   ]
  },
  {
   "cell_type": "code",
   "execution_count": 205,
   "id": "fd749391",
   "metadata": {},
   "outputs": [],
   "source": [
    "similar_movies = list(enumerate(cosine_sim[movie_index]))"
   ]
  },
  {
   "cell_type": "code",
   "execution_count": 206,
   "id": "9ca973b6",
   "metadata": {},
   "outputs": [],
   "source": [
    "#We will sort the list similar_movies according to similarity scores in descending order. \n",
    "sorted_similar_movies = sorted(similar_movies,key=lambda x:x[1],reverse=True)[1:]"
   ]
  },
  {
   "cell_type": "markdown",
   "id": "a830eb50",
   "metadata": {},
   "source": [
    "### Printing the Top Recommended Movie"
   ]
  },
  {
   "cell_type": "code",
   "execution_count": 207,
   "id": "ef67a475",
   "metadata": {
    "scrolled": false
   },
   "outputs": [
    {
     "name": "stdout",
     "output_type": "stream",
     "text": [
      "Top 10 similar movies to Mission: Impossible - Ghost Protocol are:\n",
      "\n",
      "Mission: Impossible - Rogue Nation ---->  Link:  http://www.missionimpossible.com\n",
      "Containment ---->  Link:  http://www.containment-film.com/\n",
      "Daylight ---->  Link:  nan\n",
      "GoldenEye ---->  Link:  http://www.mgm.com/view/movie/757/Goldeneye/\n",
      "Phone Booth ---->  Link:  nan\n",
      "No Escape ---->  Link:  nan\n",
      "Gangster Squad ---->  Link:  http://gangstersquad.warnerbros.com/\n",
      "The Net ---->  Link:  nan\n",
      "The Incredibles ---->  Link:  http://disney.go.com/disneyvideos/animatedfilms/incredibles/main.html\n",
      "Baby's Day Out ---->  Link:  nan\n",
      "Rumble in the Bronx ---->  Link:  nan\n"
     ]
    }
   ],
   "source": [
    "i=0\n",
    "print(\"Top 10 similar movies to \"+movie_name+\" are:\\n\")\n",
    "for element in sorted_similar_movies:\n",
    "    print(get_title_from_index(element[0]), '---->  Link: ', get_homepage_from_index(element[0]))\n",
    "    i=i+1\n",
    "    if i>10:\n",
    "        break"
   ]
  },
  {
   "cell_type": "markdown",
   "id": "e1afc79c",
   "metadata": {},
   "source": [
    "### Printing the movie name without Link."
   ]
  },
  {
   "cell_type": "code",
   "execution_count": 208,
   "id": "a13bf363",
   "metadata": {},
   "outputs": [
    {
     "name": "stdout",
     "output_type": "stream",
     "text": [
      "Top 10 similar movies to Mission: Impossible - Ghost Protocol are:\n",
      "\n",
      "Mission: Impossible - Rogue Nation\n",
      "Containment\n",
      "Daylight\n",
      "GoldenEye\n",
      "Phone Booth\n",
      "No Escape\n",
      "Gangster Squad\n",
      "The Net\n",
      "The Incredibles\n",
      "Baby's Day Out\n",
      "Rumble in the Bronx\n",
      "Mission: Impossible\n",
      "Mission: Impossible III\n",
      "Mission: Impossible II\n",
      "Unaccompanied Minors\n",
      "When the Cat's Away\n",
      "Pompeii\n",
      "Johnny English Reborn\n",
      "Final Destination\n",
      "Spectre\n",
      "The Expendables 3\n",
      "Scary Movie 2\n",
      "John Q\n",
      "The French Connection\n",
      "Beer League\n",
      "Doubt\n"
     ]
    }
   ],
   "source": [
    "i=0\n",
    "print(\"Top 10 similar movies to \"+movie_name+\" are:\\n\")\n",
    "for element in sorted_similar_movies:\n",
    "    print(get_title_from_index(element[0]))\n",
    "    i=i+1\n",
    "    if i>25:\n",
    "        break"
   ]
  },
  {
   "cell_type": "code",
   "execution_count": 168,
   "id": "48d0a935",
   "metadata": {},
   "outputs": [
    {
     "name": "stdout",
     "output_type": "stream",
     "text": [
      "It Works....\n"
     ]
    }
   ],
   "source": [
    "print('It Works....')"
   ]
  },
  {
   "cell_type": "code",
   "execution_count": null,
   "id": "f6717d91",
   "metadata": {},
   "outputs": [],
   "source": []
  }
 ],
 "metadata": {
  "kernelspec": {
   "display_name": "Python 3",
   "language": "python",
   "name": "python3"
  },
  "language_info": {
   "codemirror_mode": {
    "name": "ipython",
    "version": 3
   },
   "file_extension": ".py",
   "mimetype": "text/x-python",
   "name": "python",
   "nbconvert_exporter": "python",
   "pygments_lexer": "ipython3",
   "version": "3.8.8"
  }
 },
 "nbformat": 4,
 "nbformat_minor": 5
}
